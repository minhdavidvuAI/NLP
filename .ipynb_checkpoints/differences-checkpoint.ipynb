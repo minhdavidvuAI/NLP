{
 "cells": [
  {
   "cell_type": "code",
   "execution_count": null,
   "id": "2f5142db-9558-42a6-874d-2dff236eb38f",
   "metadata": {},
   "outputs": [],
   "source": [
    "import pandas as pd\n",
    "\n",
    "# Load the data\n",
    "df = pd.read_csv(\"final_sentiment.csv\")\n",
    "\n",
    "# Predicted NEGATIVE but actually POSITIVE\n",
    "neg_pred_pos_actual = df[(df['Predicted_Sentiment'] == 'NEGATIVE') & (df['Sentiment_fine'] == 'POSITIVE')]\n",
    "\n",
    "# Predicted POSITIVE but actually NEGATIVE\n",
    "pos_pred_neg_actual = df[(df['Predicted_Sentiment'] == 'POSITIVE') & (df['Sentiment_fine'] == 'NEGATIVE')]\n",
    "\n",
    "# Both predictions and actuals are the same\n",
    "agreement = df[df['Predicted_Sentiment'] == df['Sentiment_fine']]\n",
    "\n",
    "# Show a few examples from each\n",
    "print(\"Predicted NEGATIVE but actual POSITIVE:\")\n",
    "print(neg_pred_pos_actual[['text', 'Predicted_Sentiment', 'Sentiment_fine']].head())\n",
    "\n",
    "print(\"\\nPredicted POSITIVE but actual NEGATIVE:\")\n",
    "print(pos_pred_neg_actual[['text', 'Predicted_Sentiment', 'Sentiment_fine']].head())\n",
    "\n",
    "print(\"\\nAgreements (Predicted == Actual):\")\n",
    "print(agreement[['text', 'Predicted_Sentiment', 'Sentiment_fine']].head())"
   ]
  }
 ],
 "metadata": {
  "kernelspec": {
   "display_name": "Python 3 (ipykernel)",
   "language": "python",
   "name": "python3"
  },
  "language_info": {
   "codemirror_mode": {
    "name": "ipython",
    "version": 3
   },
   "file_extension": ".py",
   "mimetype": "text/x-python",
   "name": "python",
   "nbconvert_exporter": "python",
   "pygments_lexer": "ipython3",
   "version": "3.10.2"
  }
 },
 "nbformat": 4,
 "nbformat_minor": 5
}
