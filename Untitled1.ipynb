{
 "cells": [
  {
   "cell_type": "code",
   "execution_count": 15,
   "id": "06b4e4fe-28c8-4a78-adcf-63f40d0e3bed",
   "metadata": {},
   "outputs": [
    {
     "data": {
      "text/plain": [
       "(80000, 46)"
      ]
     },
     "execution_count": 15,
     "metadata": {},
     "output_type": "execute_result"
    }
   ],
   "source": [
    "import pandas as pd\n",
    "from transformers import pipeline\n",
    "\n",
    "# Load the data\n",
    "df = pd.read_csv(\"all_data.csv\").head(80000)\n",
    "df.shape"
   ]
  },
  {
   "cell_type": "code",
   "execution_count": 16,
   "id": "162b25fe-102c-47f1-a5bd-f178a7a34d42",
   "metadata": {},
   "outputs": [],
   "source": [
    "# Drop rows where 'sentiment' is 'neutral'\n",
    "df = df[[\"id\",\"comment_text\"]]\n",
    "# Remove all commas from the comment_text\n",
    "df[\"comment_text\"] = df[\"comment_text\"].str.replace(\",\", \"\", regex=False)"
   ]
  },
  {
   "cell_type": "code",
   "execution_count": 17,
   "id": "2df30373-1b62-4aa9-95c2-ad4ae2abb9c8",
   "metadata": {},
   "outputs": [],
   "source": [
    "df.to_csv(\"test123.csv\", index=False)\n"
   ]
  },
  {
   "cell_type": "code",
   "execution_count": 19,
   "id": "e9046c0b-5d2e-443d-9f49-a8d5fd6a6d11",
   "metadata": {},
   "outputs": [
    {
     "data": {
      "text/plain": [
       "(80000, 2)"
      ]
     },
     "execution_count": 19,
     "metadata": {},
     "output_type": "execute_result"
    }
   ],
   "source": [
    "\n",
    "df = pd.read_csv(\"test123.csv\")\n",
    "df.shape"
   ]
  },
  {
   "cell_type": "code",
   "execution_count": null,
   "id": "d6193bfa-d700-43bc-bab8-6953a834482b",
   "metadata": {},
   "outputs": [],
   "source": [
    "\n",
    "device = 0 if torch.cuda.is_available() else -1\n",
    "print(\"Using GPU\" if device == 0 else \"Using CPU\")\n",
    "# Load sentiment pipeline (assuming CUDA device ID is already defined as 'device')\n",
    "sentiment_pipeline = pipeline(\"sentiment-analysis\", device=device)\n",
    "\n",
    "# Apply sentiment analysis to the 'text' column\n",
    "df[\"Predicted_Sentiment\"] = df[\"comment_text\"].apply(lambda x: sentiment_pipeline(x)[0]['label'])\n",
    "# Count how many are predicted as POSITIVE or NEGATIVE\n",
    "sentiment_counts = df[\"Predicted_Sentiment\"].value_counts()\n",
    "print(sentiment_counts)\n"
   ]
  }
 ],
 "metadata": {
  "kernelspec": {
   "display_name": "Python [conda env:DataEngineering4]",
   "language": "python",
   "name": "conda-env-DataEngineering4-py"
  },
  "language_info": {
   "codemirror_mode": {
    "name": "ipython",
    "version": 3
   },
   "file_extension": ".py",
   "mimetype": "text/x-python",
   "name": "python",
   "nbconvert_exporter": "python",
   "pygments_lexer": "ipython3",
   "version": "3.10.14"
  }
 },
 "nbformat": 4,
 "nbformat_minor": 5
}
