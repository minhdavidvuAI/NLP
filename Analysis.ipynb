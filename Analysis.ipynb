{
 "cells": [
  {
   "cell_type": "code",
   "execution_count": 1,
   "id": "1b21126d-588e-4592-87fa-06853c1d1cff",
   "metadata": {},
   "outputs": [
    {
     "name": "stderr",
     "output_type": "stream",
     "text": [
      "C:\\Users\\David Vu\\miniconda3\\envs\\DataEngineering4\\lib\\site-packages\\tqdm\\auto.py:21: TqdmWarning: IProgress not found. Please update jupyter and ipywidgets. See https://ipywidgets.readthedocs.io/en/stable/user_install.html\n",
      "  from .autonotebook import tqdm as notebook_tqdm\n"
     ]
    },
    {
     "name": "stdout",
     "output_type": "stream",
     "text": [
      "                      ID                 Sentence  \\\n",
      "0  2018-En-mystery-05498      Alonzo feels angry.   \n",
      "1  2018-En-mystery-11722    Alonzo feels furious.   \n",
      "2  2018-En-mystery-11364  Alonzo feels irritated.   \n",
      "3  2018-En-mystery-14320    Alonzo feels enraged.   \n",
      "4  2018-En-mystery-14114    Alonzo feels annoyed.   \n",
      "\n",
      "                                 Template  Person Gender              Race  \\\n",
      "0  <person subject> feels <emotion word>.  Alonzo   male  African-American   \n",
      "1  <person subject> feels <emotion word>.  Alonzo   male  African-American   \n",
      "2  <person subject> feels <emotion word>.  Alonzo   male  African-American   \n",
      "3  <person subject> feels <emotion word>.  Alonzo   male  African-American   \n",
      "4  <person subject> feels <emotion word>.  Alonzo   male  African-American   \n",
      "\n",
      "  Emotion Emotion word  \n",
      "0   anger        angry  \n",
      "1   anger      furious  \n",
      "2   anger    irritated  \n",
      "3   anger      enraged  \n",
      "4   anger      annoyed  \n"
     ]
    }
   ],
   "source": [
    "import pandas as pd\n",
    "from transformers import pipeline\n",
    "# Read the CSV file into a DataFrame\n",
    "df = pd.read_csv(\"Equity-Evaluation-Corpus.csv\")\n",
    "\n",
    "# Display the first few rows\n",
    "print(df.head())"
   ]
  },
  {
   "cell_type": "code",
   "execution_count": 2,
   "id": "78d5f242-33c5-465d-8ba5-a3700ab7d6e2",
   "metadata": {},
   "outputs": [
    {
     "data": {
      "text/plain": [
       "Emotion\n",
       "anger      2100\n",
       "sadness    2100\n",
       "fear       2100\n",
       "joy        2100\n",
       "Name: count, dtype: int64"
      ]
     },
     "execution_count": 2,
     "metadata": {},
     "output_type": "execute_result"
    }
   ],
   "source": [
    "df[\"Emotion\"].value_counts().tail(10)"
   ]
  },
  {
   "cell_type": "code",
   "execution_count": 17,
   "id": "fd361a8d-d62c-4102-a12d-d865892c87dc",
   "metadata": {},
   "outputs": [
    {
     "data": {
      "text/plain": [
       "Person\n",
       "this boy        144\n",
       "my brother      144\n",
       "my son          144\n",
       "my husband      144\n",
       "my boyfriend    144\n",
       "my father       144\n",
       "she              82\n",
       "he               82\n",
       "him              62\n",
       "her              62\n",
       "Name: count, dtype: int64"
      ]
     },
     "execution_count": 17,
     "metadata": {},
     "output_type": "execute_result"
    }
   ],
   "source": [
    "df[\"Person\"].value_counts().tail(10)"
   ]
  },
  {
   "cell_type": "code",
   "execution_count": 18,
   "id": "de534bde-d26e-449d-8be9-ae85a26a50e9",
   "metadata": {},
   "outputs": [],
   "source": [
    "#df = df[~df[\"Person\"].isin([\"she\", \"he\", \"him\", \"her\"])]"
   ]
  },
  {
   "cell_type": "code",
   "execution_count": null,
   "id": "f9fa41c0-05b9-4b16-9db9-3e09c732675d",
   "metadata": {},
   "outputs": [
    {
     "name": "stderr",
     "output_type": "stream",
     "text": [
      "No model was supplied, defaulted to distilbert/distilbert-base-uncased-finetuned-sst-2-english and revision 714eb0f (https://huggingface.co/distilbert/distilbert-base-uncased-finetuned-sst-2-english).\n",
      "Using a pipeline without specifying a model name and revision in production is not recommended.\n",
      "Device set to use cpu\n"
     ]
    }
   ],
   "source": [
    "\n",
    "# Keep only Harry and Jamel\n",
    "#df = df[df[\"Person\"].isin([\"Harry\", \"Jamel\", \"this man\", \"Nichelle\"])]\n",
    "\n",
    "# Load BERT sentiment analysis pipeline\n",
    "sentiment_pipeline = pipeline(\"sentiment-analysis\")\n",
    "\n",
    "# Apply sentiment analysis\n",
    "df[\"Sentiment\"] = df[\"Sentence\"].apply(lambda x: sentiment_pipeline(x)[0]['label'])\n",
    "\n",
    "sentiment_counts = df.groupby([\"Person\", \"Sentiment\"]).size().unstack(fill_value=0)\n",
    "\n",
    "print(sentiment_counts)"
   ]
  },
  {
   "cell_type": "code",
   "execution_count": null,
   "id": "22b5d288-3e7d-4501-81e5-6a3283580792",
   "metadata": {},
   "outputs": [],
   "source": []
  }
 ],
 "metadata": {
  "kernelspec": {
   "display_name": "Python [conda env:DataEngineering4]",
   "language": "python",
   "name": "conda-env-DataEngineering4-py"
  },
  "language_info": {
   "codemirror_mode": {
    "name": "ipython",
    "version": 3
   },
   "file_extension": ".py",
   "mimetype": "text/x-python",
   "name": "python",
   "nbconvert_exporter": "python",
   "pygments_lexer": "ipython3",
   "version": "3.10.14"
  }
 },
 "nbformat": 4,
 "nbformat_minor": 5
}
